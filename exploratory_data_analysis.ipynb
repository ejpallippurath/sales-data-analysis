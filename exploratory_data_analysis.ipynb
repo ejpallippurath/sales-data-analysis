{
 "cells": [
  {
   "cell_type": "code",
   "execution_count": 1,
   "metadata": {},
   "outputs": [],
   "source": [
    "# importing libraries\n",
    "import pandas as pd\n",
    "import matplotlib.pyplot as plt\n",
    "%matplotlib inline"
   ]
  },
  {
   "cell_type": "code",
   "execution_count": 2,
   "metadata": {},
   "outputs": [
    {
     "data": {
      "text/html": [
       "<div>\n",
       "<style scoped>\n",
       "    .dataframe tbody tr th:only-of-type {\n",
       "        vertical-align: middle;\n",
       "    }\n",
       "\n",
       "    .dataframe tbody tr th {\n",
       "        vertical-align: top;\n",
       "    }\n",
       "\n",
       "    .dataframe thead th {\n",
       "        text-align: right;\n",
       "    }\n",
       "</style>\n",
       "<table border=\"1\" class=\"dataframe\">\n",
       "  <thead>\n",
       "    <tr style=\"text-align: right;\">\n",
       "      <th></th>\n",
       "      <th>Invoice ID</th>\n",
       "      <th>Date</th>\n",
       "      <th>Time</th>\n",
       "      <th>Gender</th>\n",
       "      <th>Location</th>\n",
       "      <th>City</th>\n",
       "      <th>Member</th>\n",
       "      <th>Category</th>\n",
       "      <th>Price</th>\n",
       "      <th>Quantity</th>\n",
       "      <th>Total</th>\n",
       "      <th>Payment</th>\n",
       "      <th>Rating</th>\n",
       "    </tr>\n",
       "  </thead>\n",
       "  <tbody>\n",
       "    <tr>\n",
       "      <th>0</th>\n",
       "      <td>460489604</td>\n",
       "      <td>1/25/2018</td>\n",
       "      <td>16:46</td>\n",
       "      <td>Male</td>\n",
       "      <td>Brookfield</td>\n",
       "      <td>NewYork</td>\n",
       "      <td>Yes</td>\n",
       "      <td>Groceries</td>\n",
       "      <td>30</td>\n",
       "      <td>1</td>\n",
       "      <td>30</td>\n",
       "      <td>Cash</td>\n",
       "      <td>2</td>\n",
       "    </tr>\n",
       "    <tr>\n",
       "      <th>1</th>\n",
       "      <td>471006167</td>\n",
       "      <td>3/19/2018</td>\n",
       "      <td>16:48</td>\n",
       "      <td>Female</td>\n",
       "      <td>Water tower</td>\n",
       "      <td>Chicago</td>\n",
       "      <td>Yes</td>\n",
       "      <td>Fashion</td>\n",
       "      <td>35</td>\n",
       "      <td>5</td>\n",
       "      <td>175</td>\n",
       "      <td>Card</td>\n",
       "      <td>3</td>\n",
       "    </tr>\n",
       "    <tr>\n",
       "      <th>2</th>\n",
       "      <td>411909258</td>\n",
       "      <td>2/25/2018</td>\n",
       "      <td>13:33</td>\n",
       "      <td>Male</td>\n",
       "      <td>Water tower</td>\n",
       "      <td>Chicago</td>\n",
       "      <td>No</td>\n",
       "      <td>Clothing</td>\n",
       "      <td>57</td>\n",
       "      <td>2</td>\n",
       "      <td>114</td>\n",
       "      <td>Cash</td>\n",
       "      <td>5</td>\n",
       "    </tr>\n",
       "    <tr>\n",
       "      <th>3</th>\n",
       "      <td>487313402</td>\n",
       "      <td>1/22/2018</td>\n",
       "      <td>13:38</td>\n",
       "      <td>Female</td>\n",
       "      <td>Park lane</td>\n",
       "      <td>Dallas</td>\n",
       "      <td>Yes</td>\n",
       "      <td>Sporting</td>\n",
       "      <td>89</td>\n",
       "      <td>4</td>\n",
       "      <td>356</td>\n",
       "      <td>Gpay</td>\n",
       "      <td>1</td>\n",
       "    </tr>\n",
       "    <tr>\n",
       "      <th>4</th>\n",
       "      <td>197763430</td>\n",
       "      <td>2/18/2018</td>\n",
       "      <td>15:31</td>\n",
       "      <td>Female</td>\n",
       "      <td>Park lane</td>\n",
       "      <td>Dallas</td>\n",
       "      <td>No</td>\n",
       "      <td>Books</td>\n",
       "      <td>82</td>\n",
       "      <td>5</td>\n",
       "      <td>410</td>\n",
       "      <td>Cash</td>\n",
       "      <td>4</td>\n",
       "    </tr>\n",
       "  </tbody>\n",
       "</table>\n",
       "</div>"
      ],
      "text/plain": [
       "   Invoice ID       Date   Time  Gender     Location     City Member  \\\n",
       "0   460489604  1/25/2018  16:46    Male   Brookfield  NewYork    Yes   \n",
       "1   471006167  3/19/2018  16:48  Female  Water tower  Chicago    Yes   \n",
       "2   411909258  2/25/2018  13:33    Male  Water tower  Chicago     No   \n",
       "3   487313402  1/22/2018  13:38  Female    Park lane   Dallas    Yes   \n",
       "4   197763430  2/18/2018  15:31  Female    Park lane   Dallas     No   \n",
       "\n",
       "    Category  Price  Quantity  Total Payment  Rating  \n",
       "0  Groceries     30         1     30    Cash       2  \n",
       "1    Fashion     35         5    175    Card       3  \n",
       "2   Clothing     57         2    114    Cash       5  \n",
       "3   Sporting     89         4    356    Gpay       1  \n",
       "4      Books     82         5    410    Cash       4  "
      ]
     },
     "execution_count": 2,
     "metadata": {},
     "output_type": "execute_result"
    }
   ],
   "source": [
    "df=pd.read_csv('sales.csv')\n",
    "df.head()"
   ]
  },
  {
   "cell_type": "code",
   "execution_count": 3,
   "metadata": {},
   "outputs": [
    {
     "name": "stdout",
     "output_type": "stream",
     "text": [
      "<class 'pandas.core.frame.DataFrame'>\n",
      "RangeIndex: 1000 entries, 0 to 999\n",
      "Data columns (total 13 columns):\n",
      " #   Column      Non-Null Count  Dtype \n",
      "---  ------      --------------  ----- \n",
      " 0   Invoice ID  1000 non-null   int64 \n",
      " 1   Date        1000 non-null   object\n",
      " 2   Time        1000 non-null   object\n",
      " 3   Gender      1000 non-null   object\n",
      " 4   Location    1000 non-null   object\n",
      " 5   City        1000 non-null   object\n",
      " 6   Member      1000 non-null   object\n",
      " 7   Category    1000 non-null   object\n",
      " 8   Price       1000 non-null   int64 \n",
      " 9   Quantity    1000 non-null   int64 \n",
      " 10  Total       1000 non-null   int64 \n",
      " 11  Payment     1000 non-null   object\n",
      " 12  Rating      1000 non-null   int64 \n",
      "dtypes: int64(5), object(8)\n",
      "memory usage: 101.7+ KB\n"
     ]
    }
   ],
   "source": [
    "df.info()"
   ]
  },
  {
   "cell_type": "markdown",
   "metadata": {},
   "source": [
    "** Task 1 : Which location has highest and lowest sales? Represent the sales on a barchart, also show the market share for each location using a pie chart. **"
   ]
  },
  {
   "cell_type": "code",
   "execution_count": 4,
   "metadata": {},
   "outputs": [
    {
     "data": {
      "text/html": [
       "<div>\n",
       "<style scoped>\n",
       "    .dataframe tbody tr th:only-of-type {\n",
       "        vertical-align: middle;\n",
       "    }\n",
       "\n",
       "    .dataframe tbody tr th {\n",
       "        vertical-align: top;\n",
       "    }\n",
       "\n",
       "    .dataframe thead th {\n",
       "        text-align: right;\n",
       "    }\n",
       "</style>\n",
       "<table border=\"1\" class=\"dataframe\">\n",
       "  <thead>\n",
       "    <tr style=\"text-align: right;\">\n",
       "      <th></th>\n",
       "      <th>Invoice ID</th>\n",
       "      <th>Date</th>\n",
       "      <th>Time</th>\n",
       "      <th>Gender</th>\n",
       "      <th>Location</th>\n",
       "      <th>City</th>\n",
       "      <th>Member</th>\n",
       "      <th>Category</th>\n",
       "      <th>Price</th>\n",
       "      <th>Quantity</th>\n",
       "      <th>Total</th>\n",
       "      <th>Payment</th>\n",
       "      <th>Rating</th>\n",
       "    </tr>\n",
       "  </thead>\n",
       "  <tbody>\n",
       "    <tr>\n",
       "      <th>0</th>\n",
       "      <td>460489604</td>\n",
       "      <td>1/25/2018</td>\n",
       "      <td>16:46</td>\n",
       "      <td>Male</td>\n",
       "      <td>Brookfield</td>\n",
       "      <td>NewYork</td>\n",
       "      <td>Yes</td>\n",
       "      <td>Groceries</td>\n",
       "      <td>30</td>\n",
       "      <td>1</td>\n",
       "      <td>30</td>\n",
       "      <td>Cash</td>\n",
       "      <td>2</td>\n",
       "    </tr>\n",
       "    <tr>\n",
       "      <th>1</th>\n",
       "      <td>471006167</td>\n",
       "      <td>3/19/2018</td>\n",
       "      <td>16:48</td>\n",
       "      <td>Female</td>\n",
       "      <td>Water tower</td>\n",
       "      <td>Chicago</td>\n",
       "      <td>Yes</td>\n",
       "      <td>Fashion</td>\n",
       "      <td>35</td>\n",
       "      <td>5</td>\n",
       "      <td>175</td>\n",
       "      <td>Card</td>\n",
       "      <td>3</td>\n",
       "    </tr>\n",
       "    <tr>\n",
       "      <th>2</th>\n",
       "      <td>411909258</td>\n",
       "      <td>2/25/2018</td>\n",
       "      <td>13:33</td>\n",
       "      <td>Male</td>\n",
       "      <td>Water tower</td>\n",
       "      <td>Chicago</td>\n",
       "      <td>No</td>\n",
       "      <td>Clothing</td>\n",
       "      <td>57</td>\n",
       "      <td>2</td>\n",
       "      <td>114</td>\n",
       "      <td>Cash</td>\n",
       "      <td>5</td>\n",
       "    </tr>\n",
       "    <tr>\n",
       "      <th>3</th>\n",
       "      <td>487313402</td>\n",
       "      <td>1/22/2018</td>\n",
       "      <td>13:38</td>\n",
       "      <td>Female</td>\n",
       "      <td>Park lane</td>\n",
       "      <td>Dallas</td>\n",
       "      <td>Yes</td>\n",
       "      <td>Sporting</td>\n",
       "      <td>89</td>\n",
       "      <td>4</td>\n",
       "      <td>356</td>\n",
       "      <td>Gpay</td>\n",
       "      <td>1</td>\n",
       "    </tr>\n",
       "    <tr>\n",
       "      <th>4</th>\n",
       "      <td>197763430</td>\n",
       "      <td>2/18/2018</td>\n",
       "      <td>15:31</td>\n",
       "      <td>Female</td>\n",
       "      <td>Park lane</td>\n",
       "      <td>Dallas</td>\n",
       "      <td>No</td>\n",
       "      <td>Books</td>\n",
       "      <td>82</td>\n",
       "      <td>5</td>\n",
       "      <td>410</td>\n",
       "      <td>Cash</td>\n",
       "      <td>4</td>\n",
       "    </tr>\n",
       "  </tbody>\n",
       "</table>\n",
       "</div>"
      ],
      "text/plain": [
       "   Invoice ID       Date   Time  Gender     Location     City Member  \\\n",
       "0   460489604  1/25/2018  16:46    Male   Brookfield  NewYork    Yes   \n",
       "1   471006167  3/19/2018  16:48  Female  Water tower  Chicago    Yes   \n",
       "2   411909258  2/25/2018  13:33    Male  Water tower  Chicago     No   \n",
       "3   487313402  1/22/2018  13:38  Female    Park lane   Dallas    Yes   \n",
       "4   197763430  2/18/2018  15:31  Female    Park lane   Dallas     No   \n",
       "\n",
       "    Category  Price  Quantity  Total Payment  Rating  \n",
       "0  Groceries     30         1     30    Cash       2  \n",
       "1    Fashion     35         5    175    Card       3  \n",
       "2   Clothing     57         2    114    Cash       5  \n",
       "3   Sporting     89         4    356    Gpay       1  \n",
       "4      Books     82         5    410    Cash       4  "
      ]
     },
     "execution_count": 4,
     "metadata": {},
     "output_type": "execute_result"
    }
   ],
   "source": [
    "df.head()"
   ]
  },
  {
   "cell_type": "code",
   "execution_count": 5,
   "metadata": {},
   "outputs": [
    {
     "data": {
      "text/plain": [
       "Location\n",
       "Brookfield     72141\n",
       "Park lane      70432\n",
       "Water tower    65215\n",
       "Name: Total, dtype: int64"
      ]
     },
     "execution_count": 5,
     "metadata": {},
     "output_type": "execute_result"
    }
   ],
   "source": [
    "# sales total in different locations\n",
    "df.groupby('Location').sum()['Total']"
   ]
  },
  {
   "cell_type": "code",
   "execution_count": 6,
   "metadata": {},
   "outputs": [],
   "source": [
    "location_list=df.groupby('Location')\n",
    "location=[x for x,y in location_list]"
   ]
  },
  {
   "cell_type": "code",
   "execution_count": 7,
   "metadata": {},
   "outputs": [
    {
     "data": {
      "image/png": "[encoded data removed]",
      "text/plain": [
       "<Figure size 432x288 with 1 Axes>"
      ]
     },
     "metadata": {},
     "output_type": "display_data"
    }
   ],
   "source": [
    "# bar chart \n",
    "plt.bar(location,df.groupby('Location').sum()['Total']);"
   ]
  },
  {
   "cell_type": "code",
   "execution_count": 8,
   "metadata": {},
   "outputs": [
    {
     "data": {
      "image/png": "[encoded data removed]",
      "text/plain": [
       "<Figure size 432x288 with 1 Axes>"
      ]
     },
     "metadata": {},
     "output_type": "display_data"
    }
   ],
   "source": [
    "# pie chart\n",
    "plt.pie(df.groupby('Location').sum()['Total'],labels=location,autopct='%1.1f%%');"
   ]
  },
  {
   "cell_type": "markdown",
   "metadata": {},
   "source": [
    "* Brookfield has highest sales.\n",
    "* Watertower has lowest sales."
   ]
  },
  {
   "cell_type": "markdown",
   "metadata": {},
   "source": [
    "** Task 2 : Which locations has more female customers and male customers? **"
   ]
  },
  {
   "cell_type": "code",
   "execution_count": 9,
   "metadata": {},
   "outputs": [
    {
     "data": {
      "text/html": [
       "<div>\n",
       "<style scoped>\n",
       "    .dataframe tbody tr th:only-of-type {\n",
       "        vertical-align: middle;\n",
       "    }\n",
       "\n",
       "    .dataframe tbody tr th {\n",
       "        vertical-align: top;\n",
       "    }\n",
       "\n",
       "    .dataframe thead th {\n",
       "        text-align: right;\n",
       "    }\n",
       "</style>\n",
       "<table border=\"1\" class=\"dataframe\">\n",
       "  <thead>\n",
       "    <tr style=\"text-align: right;\">\n",
       "      <th>Location</th>\n",
       "      <th>Brookfield</th>\n",
       "      <th>Park lane</th>\n",
       "      <th>Water tower</th>\n",
       "    </tr>\n",
       "    <tr>\n",
       "      <th>Gender</th>\n",
       "      <th></th>\n",
       "      <th></th>\n",
       "      <th></th>\n",
       "    </tr>\n",
       "  </thead>\n",
       "  <tbody>\n",
       "    <tr>\n",
       "      <th>Female</th>\n",
       "      <td>179</td>\n",
       "      <td>179</td>\n",
       "      <td>143</td>\n",
       "    </tr>\n",
       "    <tr>\n",
       "      <th>Male</th>\n",
       "      <td>161</td>\n",
       "      <td>153</td>\n",
       "      <td>185</td>\n",
       "    </tr>\n",
       "  </tbody>\n",
       "</table>\n",
       "</div>"
      ],
      "text/plain": [
       "Location  Brookfield  Park lane  Water tower\n",
       "Gender                                      \n",
       "Female           179        179          143\n",
       "Male             161        153          185"
      ]
     },
     "execution_count": 9,
     "metadata": {},
     "output_type": "execute_result"
    }
   ],
   "source": [
    "location_sales=df.groupby(['Gender','Location']).count()['Invoice ID'].unstack(level=1)\n",
    "location_sales"
   ]
  },
  {
   "cell_type": "code",
   "execution_count": 10,
   "metadata": {},
   "outputs": [
    {
     "data": {
      "image/png": "[encoded data removed]",
      "text/plain": [
       "<Figure size 432x288 with 1 Axes>"
      ]
     },
     "metadata": {},
     "output_type": "display_data"
    }
   ],
   "source": [
    "location_sales.plot(kind='bar');"
   ]
  },
  {
   "cell_type": "markdown",
   "metadata": {},
   "source": [
    "* Brookfield and Parklane has more number of female customers.\n",
    "* Whereas, Watertower has more male customers than other locations."
   ]
  },
  {
   "cell_type": "markdown",
   "metadata": {},
   "source": [
    "** Task 3: what days of the month make more sales? **"
   ]
  },
  {
   "cell_type": "code",
   "execution_count": 11,
   "metadata": {},
   "outputs": [
    {
     "data": {
      "text/html": [
       "<div>\n",
       "<style scoped>\n",
       "    .dataframe tbody tr th:only-of-type {\n",
       "        vertical-align: middle;\n",
       "    }\n",
       "\n",
       "    .dataframe tbody tr th {\n",
       "        vertical-align: top;\n",
       "    }\n",
       "\n",
       "    .dataframe thead th {\n",
       "        text-align: right;\n",
       "    }\n",
       "</style>\n",
       "<table border=\"1\" class=\"dataframe\">\n",
       "  <thead>\n",
       "    <tr style=\"text-align: right;\">\n",
       "      <th></th>\n",
       "      <th>Invoice ID</th>\n",
       "      <th>Date</th>\n",
       "      <th>Time</th>\n",
       "      <th>Gender</th>\n",
       "      <th>Location</th>\n",
       "      <th>City</th>\n",
       "      <th>Member</th>\n",
       "      <th>Category</th>\n",
       "      <th>Price</th>\n",
       "      <th>Quantity</th>\n",
       "      <th>Total</th>\n",
       "      <th>Payment</th>\n",
       "      <th>Rating</th>\n",
       "      <th>Day</th>\n",
       "    </tr>\n",
       "  </thead>\n",
       "  <tbody>\n",
       "    <tr>\n",
       "      <th>0</th>\n",
       "      <td>460489604</td>\n",
       "      <td>1/25/2018</td>\n",
       "      <td>16:46</td>\n",
       "      <td>Male</td>\n",
       "      <td>Brookfield</td>\n",
       "      <td>NewYork</td>\n",
       "      <td>Yes</td>\n",
       "      <td>Groceries</td>\n",
       "      <td>30</td>\n",
       "      <td>1</td>\n",
       "      <td>30</td>\n",
       "      <td>Cash</td>\n",
       "      <td>2</td>\n",
       "      <td>25</td>\n",
       "    </tr>\n",
       "    <tr>\n",
       "      <th>1</th>\n",
       "      <td>471006167</td>\n",
       "      <td>3/19/2018</td>\n",
       "      <td>16:48</td>\n",
       "      <td>Female</td>\n",
       "      <td>Water tower</td>\n",
       "      <td>Chicago</td>\n",
       "      <td>Yes</td>\n",
       "      <td>Fashion</td>\n",
       "      <td>35</td>\n",
       "      <td>5</td>\n",
       "      <td>175</td>\n",
       "      <td>Card</td>\n",
       "      <td>3</td>\n",
       "      <td>19</td>\n",
       "    </tr>\n",
       "    <tr>\n",
       "      <th>2</th>\n",
       "      <td>411909258</td>\n",
       "      <td>2/25/2018</td>\n",
       "      <td>13:33</td>\n",
       "      <td>Male</td>\n",
       "      <td>Water tower</td>\n",
       "      <td>Chicago</td>\n",
       "      <td>No</td>\n",
       "      <td>Clothing</td>\n",
       "      <td>57</td>\n",
       "      <td>2</td>\n",
       "      <td>114</td>\n",
       "      <td>Cash</td>\n",
       "      <td>5</td>\n",
       "      <td>25</td>\n",
       "    </tr>\n",
       "    <tr>\n",
       "      <th>3</th>\n",
       "      <td>487313402</td>\n",
       "      <td>1/22/2018</td>\n",
       "      <td>13:38</td>\n",
       "      <td>Female</td>\n",
       "      <td>Park lane</td>\n",
       "      <td>Dallas</td>\n",
       "      <td>Yes</td>\n",
       "      <td>Sporting</td>\n",
       "      <td>89</td>\n",
       "      <td>4</td>\n",
       "      <td>356</td>\n",
       "      <td>Gpay</td>\n",
       "      <td>1</td>\n",
       "      <td>22</td>\n",
       "    </tr>\n",
       "    <tr>\n",
       "      <th>4</th>\n",
       "      <td>197763430</td>\n",
       "      <td>2/18/2018</td>\n",
       "      <td>15:31</td>\n",
       "      <td>Female</td>\n",
       "      <td>Park lane</td>\n",
       "      <td>Dallas</td>\n",
       "      <td>No</td>\n",
       "      <td>Books</td>\n",
       "      <td>82</td>\n",
       "      <td>5</td>\n",
       "      <td>410</td>\n",
       "      <td>Cash</td>\n",
       "      <td>4</td>\n",
       "      <td>18</td>\n",
       "    </tr>\n",
       "  </tbody>\n",
       "</table>\n",
       "</div>"
      ],
      "text/plain": [
       "   Invoice ID       Date   Time  Gender     Location     City Member  \\\n",
       "0   460489604  1/25/2018  16:46    Male   Brookfield  NewYork    Yes   \n",
       "1   471006167  3/19/2018  16:48  Female  Water tower  Chicago    Yes   \n",
       "2   411909258  2/25/2018  13:33    Male  Water tower  Chicago     No   \n",
       "3   487313402  1/22/2018  13:38  Female    Park lane   Dallas    Yes   \n",
       "4   197763430  2/18/2018  15:31  Female    Park lane   Dallas     No   \n",
       "\n",
       "    Category  Price  Quantity  Total Payment  Rating  Day  \n",
       "0  Groceries     30         1     30    Cash       2   25  \n",
       "1    Fashion     35         5    175    Card       3   19  \n",
       "2   Clothing     57         2    114    Cash       5   25  \n",
       "3   Sporting     89         4    356    Gpay       1   22  \n",
       "4      Books     82         5    410    Cash       4   18  "
      ]
     },
     "execution_count": 11,
     "metadata": {},
     "output_type": "execute_result"
    }
   ],
   "source": [
    "df['Day']=pd.to_datetime(df['Date']).dt.day\n",
    "df.head()"
   ]
  },
  {
   "cell_type": "code",
   "execution_count": 12,
   "metadata": {},
   "outputs": [
    {
     "data": {
      "text/plain": [
       "Day\n",
       "1     6301\n",
       "2     8247\n",
       "3     8533\n",
       "4     6593\n",
       "5     9177\n",
       "6     5976\n",
       "7     6164\n",
       "8     8313\n",
       "9     9142\n",
       "10    6444\n",
       "11    4755\n",
       "12    7714\n",
       "13    5688\n",
       "14    7978\n",
       "15    9677\n",
       "16    5912\n",
       "17    5833\n",
       "18    4625\n",
       "19    7481\n",
       "20    7333\n",
       "21    4300\n",
       "22    5788\n",
       "23    6949\n",
       "24    7819\n",
       "25    8638\n",
       "26    7165\n",
       "27    8154\n",
       "28    6467\n",
       "29    4662\n",
       "30    3530\n",
       "31    2430\n",
       "Name: Total, dtype: int64"
      ]
     },
     "execution_count": 12,
     "metadata": {},
     "output_type": "execute_result"
    }
   ],
   "source": [
    "df.groupby('Day').sum()['Total']"
   ]
  },
  {
   "cell_type": "code",
   "execution_count": 13,
   "metadata": {},
   "outputs": [
    {
     "data": {
      "text/plain": [
       "9677"
      ]
     },
     "execution_count": 13,
     "metadata": {},
     "output_type": "execute_result"
    }
   ],
   "source": [
    "df.groupby('Day').sum()['Total'].max()"
   ]
  },
  {
   "cell_type": "code",
   "execution_count": 14,
   "metadata": {},
   "outputs": [
    {
     "data": {
      "image/png": "[encoded data removed]",
      "text/plain": [
       "<Figure size 432x288 with 1 Axes>"
      ]
     },
     "metadata": {},
     "output_type": "display_data"
    }
   ],
   "source": [
    "df.groupby('Day').sum()['Total'].plot();"
   ]
  },
  {
   "cell_type": "markdown",
   "metadata": {},
   "source": [
    "* Day 15 makes more sales."
   ]
  },
  {
   "cell_type": "markdown",
   "metadata": {},
   "source": [
    "** Task 4: Which branch has more members vs less members? **"
   ]
  },
  {
   "cell_type": "code",
   "execution_count": 15,
   "metadata": {},
   "outputs": [
    {
     "data": {
      "text/html": [
       "<div>\n",
       "<style scoped>\n",
       "    .dataframe tbody tr th:only-of-type {\n",
       "        vertical-align: middle;\n",
       "    }\n",
       "\n",
       "    .dataframe tbody tr th {\n",
       "        vertical-align: top;\n",
       "    }\n",
       "\n",
       "    .dataframe thead th {\n",
       "        text-align: right;\n",
       "    }\n",
       "</style>\n",
       "<table border=\"1\" class=\"dataframe\">\n",
       "  <thead>\n",
       "    <tr style=\"text-align: right;\">\n",
       "      <th>Location</th>\n",
       "      <th>Brookfield</th>\n",
       "      <th>Park lane</th>\n",
       "      <th>Water tower</th>\n",
       "    </tr>\n",
       "    <tr>\n",
       "      <th>Member</th>\n",
       "      <th></th>\n",
       "      <th></th>\n",
       "      <th></th>\n",
       "    </tr>\n",
       "  </thead>\n",
       "  <tbody>\n",
       "    <tr>\n",
       "      <th>No</th>\n",
       "      <td>173</td>\n",
       "      <td>167</td>\n",
       "      <td>159</td>\n",
       "    </tr>\n",
       "    <tr>\n",
       "      <th>Yes</th>\n",
       "      <td>167</td>\n",
       "      <td>165</td>\n",
       "      <td>169</td>\n",
       "    </tr>\n",
       "  </tbody>\n",
       "</table>\n",
       "</div>"
      ],
      "text/plain": [
       "Location  Brookfield  Park lane  Water tower\n",
       "Member                                      \n",
       "No               173        167          159\n",
       "Yes              167        165          169"
      ]
     },
     "execution_count": 15,
     "metadata": {},
     "output_type": "execute_result"
    }
   ],
   "source": [
    "members=df.groupby(['Member','Location']).count()['Invoice ID'].unstack(level=1)\n",
    "members"
   ]
  },
  {
   "cell_type": "code",
   "execution_count": 16,
   "metadata": {},
   "outputs": [
    {
     "data": {
      "image/png": "[encoded data removed]",
      "text/plain": [
       "<Figure size 432x288 with 1 Axes>"
      ]
     },
     "metadata": {},
     "output_type": "display_data"
    }
   ],
   "source": [
    "members.plot(kind='bar');"
   ]
  },
  {
   "cell_type": "markdown",
   "metadata": {},
   "source": [
    "* Watertower has more members.\n",
    "* Parklane has less members."
   ]
  },
  {
   "cell_type": "markdown",
   "metadata": {},
   "source": [
    "** Task 5: Which branch has highest and lowest rating? **"
   ]
  },
  {
   "cell_type": "code",
   "execution_count": 17,
   "metadata": {},
   "outputs": [
    {
     "data": {
      "text/plain": [
       "Location\n",
       "Brookfield     2.782353\n",
       "Park lane      3.021084\n",
       "Water tower    3.118902\n",
       "Name: Rating, dtype: float64"
      ]
     },
     "execution_count": 17,
     "metadata": {},
     "output_type": "execute_result"
    }
   ],
   "source": [
    "rating=df.groupby('Location').mean()['Rating']\n",
    "rating"
   ]
  },
  {
   "cell_type": "code",
   "execution_count": 18,
   "metadata": {},
   "outputs": [
    {
     "data": {
      "text/plain": [
       "Location\n",
       "Brookfield     58\n",
       "Park lane      71\n",
       "Water tower    75\n",
       "Name: Invoice ID, dtype: int64"
      ]
     },
     "execution_count": 18,
     "metadata": {},
     "output_type": "execute_result"
    }
   ],
   "source": [
    "df[df['Rating']==5].groupby('Location').count()['Invoice ID']"
   ]
  },
  {
   "cell_type": "code",
   "execution_count": 19,
   "metadata": {},
   "outputs": [
    {
     "data": {
      "text/plain": [
       "Location\n",
       "Brookfield     84\n",
       "Park lane      63\n",
       "Water tower    61\n",
       "Name: Invoice ID, dtype: int64"
      ]
     },
     "execution_count": 19,
     "metadata": {},
     "output_type": "execute_result"
    }
   ],
   "source": [
    "df[df['Rating']==1].groupby('Location').count()['Invoice ID']"
   ]
  },
  {
   "cell_type": "code",
   "execution_count": 20,
   "metadata": {},
   "outputs": [
    {
     "data": {
      "image/png": "[encoded data removed]",
      "text/plain": [
       "<Figure size 432x288 with 1 Axes>"
      ]
     },
     "metadata": {},
     "output_type": "display_data"
    }
   ],
   "source": [
    "rating.plot(kind='bar');"
   ]
  },
  {
   "cell_type": "markdown",
   "metadata": {},
   "source": [
    "* Watertower has more and Brookfield has less average in rating."
   ]
  },
  {
   "cell_type": "markdown",
   "metadata": {},
   "source": [
    "** Task 6: which city has more female shopping? **"
   ]
  },
  {
   "cell_type": "code",
   "execution_count": 21,
   "metadata": {},
   "outputs": [
    {
     "data": {
      "text/html": [
       "<div>\n",
       "<style scoped>\n",
       "    .dataframe tbody tr th:only-of-type {\n",
       "        vertical-align: middle;\n",
       "    }\n",
       "\n",
       "    .dataframe tbody tr th {\n",
       "        vertical-align: top;\n",
       "    }\n",
       "\n",
       "    .dataframe thead th {\n",
       "        text-align: right;\n",
       "    }\n",
       "</style>\n",
       "<table border=\"1\" class=\"dataframe\">\n",
       "  <thead>\n",
       "    <tr style=\"text-align: right;\">\n",
       "      <th>City</th>\n",
       "      <th>Chicago</th>\n",
       "      <th>Dallas</th>\n",
       "      <th>NewYork</th>\n",
       "    </tr>\n",
       "    <tr>\n",
       "      <th>Gender</th>\n",
       "      <th></th>\n",
       "      <th></th>\n",
       "      <th></th>\n",
       "    </tr>\n",
       "  </thead>\n",
       "  <tbody>\n",
       "    <tr>\n",
       "      <th>Female</th>\n",
       "      <td>30199</td>\n",
       "      <td>38937</td>\n",
       "      <td>37316</td>\n",
       "    </tr>\n",
       "    <tr>\n",
       "      <th>Male</th>\n",
       "      <td>35016</td>\n",
       "      <td>31495</td>\n",
       "      <td>34825</td>\n",
       "    </tr>\n",
       "  </tbody>\n",
       "</table>\n",
       "</div>"
      ],
      "text/plain": [
       "City    Chicago  Dallas  NewYork\n",
       "Gender                          \n",
       "Female    30199   38937    37316\n",
       "Male      35016   31495    34825"
      ]
     },
     "execution_count": 21,
     "metadata": {},
     "output_type": "execute_result"
    }
   ],
   "source": [
    "df.groupby(['Gender','City']).sum()['Total'].unstack(level=1)"
   ]
  },
  {
   "cell_type": "code",
   "execution_count": 22,
   "metadata": {},
   "outputs": [
    {
     "data": {
      "image/png": "[encoded data removed]",
      "text/plain": [
       "<Figure size 432x288 with 1 Axes>"
      ]
     },
     "metadata": {},
     "output_type": "display_data"
    }
   ],
   "source": [
    "df.groupby(['Gender','City']).sum()['Total'].unstack(level=1).plot(kind='bar');"
   ]
  },
  {
   "cell_type": "code",
   "execution_count": 23,
   "metadata": {},
   "outputs": [
    {
     "data": {
      "text/html": [
       "<div>\n",
       "<style scoped>\n",
       "    .dataframe tbody tr th:only-of-type {\n",
       "        vertical-align: middle;\n",
       "    }\n",
       "\n",
       "    .dataframe tbody tr th {\n",
       "        vertical-align: top;\n",
       "    }\n",
       "\n",
       "    .dataframe thead th {\n",
       "        text-align: right;\n",
       "    }\n",
       "</style>\n",
       "<table border=\"1\" class=\"dataframe\">\n",
       "  <thead>\n",
       "    <tr style=\"text-align: right;\">\n",
       "      <th>Gender</th>\n",
       "      <th>Female</th>\n",
       "      <th>Male</th>\n",
       "    </tr>\n",
       "    <tr>\n",
       "      <th>Category</th>\n",
       "      <th></th>\n",
       "      <th></th>\n",
       "    </tr>\n",
       "  </thead>\n",
       "  <tbody>\n",
       "    <tr>\n",
       "      <th>Books</th>\n",
       "      <td>7639</td>\n",
       "      <td>6909</td>\n",
       "    </tr>\n",
       "    <tr>\n",
       "      <th>Clothing</th>\n",
       "      <td>5842</td>\n",
       "      <td>6770</td>\n",
       "    </tr>\n",
       "    <tr>\n",
       "      <th>Fashion</th>\n",
       "      <td>6485</td>\n",
       "      <td>5328</td>\n",
       "    </tr>\n",
       "    <tr>\n",
       "      <th>Furniture</th>\n",
       "      <td>4659</td>\n",
       "      <td>4200</td>\n",
       "    </tr>\n",
       "    <tr>\n",
       "      <th>Groceries</th>\n",
       "      <td>6055</td>\n",
       "      <td>3004</td>\n",
       "    </tr>\n",
       "    <tr>\n",
       "      <th>Sporting</th>\n",
       "      <td>8257</td>\n",
       "      <td>5284</td>\n",
       "    </tr>\n",
       "  </tbody>\n",
       "</table>\n",
       "</div>"
      ],
      "text/plain": [
       "Gender     Female  Male\n",
       "Category               \n",
       "Books        7639  6909\n",
       "Clothing     5842  6770\n",
       "Fashion      6485  5328\n",
       "Furniture    4659  4200\n",
       "Groceries    6055  3004\n",
       "Sporting     8257  5284"
      ]
     },
     "execution_count": 23,
     "metadata": {},
     "output_type": "execute_result"
    }
   ],
   "source": [
    "df[df['City']=='Dallas'].groupby(['Gender','Category']).sum()['Total'].unstack(level=0)"
   ]
  },
  {
   "cell_type": "markdown",
   "metadata": {},
   "source": [
    "* Dallas has more sales or shopping from female customers."
   ]
  },
  {
   "cell_type": "markdown",
   "metadata": {},
   "source": [
    "** Task 7: Who spends more, male or female?**"
   ]
  },
  {
   "cell_type": "code",
   "execution_count": 24,
   "metadata": {},
   "outputs": [
    {
     "data": {
      "text/plain": [
       "Gender\n",
       "Female    106452\n",
       "Male      101336\n",
       "Name: Total, dtype: int64"
      ]
     },
     "execution_count": 24,
     "metadata": {},
     "output_type": "execute_result"
    }
   ],
   "source": [
    "df.groupby(['Gender']).sum()['Total']"
   ]
  },
  {
   "cell_type": "code",
   "execution_count": 25,
   "metadata": {},
   "outputs": [
    {
     "data": {
      "image/png": "[encoded data removed]",
      "text/plain": [
       "<Figure size 432x288 with 1 Axes>"
      ]
     },
     "metadata": {},
     "output_type": "display_data"
    }
   ],
   "source": [
    "df.groupby(['Gender']).sum()['Total'].plot(kind='bar');"
   ]
  },
  {
   "cell_type": "markdown",
   "metadata": {},
   "source": [
    "* female spends more in shopping than men."
   ]
  },
  {
   "cell_type": "markdown",
   "metadata": {},
   "source": [
    "** Task 8: Which type of customer spends more, member or non-member? **"
   ]
  },
  {
   "cell_type": "code",
   "execution_count": 26,
   "metadata": {},
   "outputs": [
    {
     "data": {
      "text/plain": [
       "Member\n",
       "No     100245\n",
       "Yes    107543\n",
       "Name: Total, dtype: int64"
      ]
     },
     "execution_count": 26,
     "metadata": {},
     "output_type": "execute_result"
    }
   ],
   "source": [
    "df.groupby(['Member']).sum()['Total']"
   ]
  },
  {
   "cell_type": "code",
   "execution_count": 27,
   "metadata": {},
   "outputs": [
    {
     "data": {
      "image/png": "[encoded data removed]",
      "text/plain": [
       "<Figure size 432x288 with 1 Axes>"
      ]
     },
     "metadata": {},
     "output_type": "display_data"
    }
   ],
   "source": [
    "df.groupby(['Member']).sum()['Total'].plot(kind='bar');"
   ]
  },
  {
   "cell_type": "markdown",
   "metadata": {},
   "source": [
    "* Customer's who is a member spends more than non- member."
   ]
  },
  {
   "cell_type": "markdown",
   "metadata": {},
   "source": [
    "** Task 9 : Which product line sells more? **"
   ]
  },
  {
   "cell_type": "code",
   "execution_count": 28,
   "metadata": {},
   "outputs": [
    {
     "data": {
      "text/plain": [
       "Category\n",
       "Books        165\n",
       "Clothing     170\n",
       "Fashion      153\n",
       "Furniture    160\n",
       "Groceries    174\n",
       "Sporting     178\n",
       "Name: Quantity, dtype: int64"
      ]
     },
     "execution_count": 28,
     "metadata": {},
     "output_type": "execute_result"
    }
   ],
   "source": [
    "df.groupby('Category').count()['Quantity']"
   ]
  },
  {
   "cell_type": "code",
   "execution_count": 29,
   "metadata": {},
   "outputs": [
    {
     "data": {
      "image/png": "[encoded data removed]",
      "text/plain": [
       "<Figure size 432x288 with 1 Axes>"
      ]
     },
     "metadata": {},
     "output_type": "display_data"
    }
   ],
   "source": [
    "df.groupby('Category').count()['Quantity'].plot(kind='bar');"
   ]
  },
  {
   "cell_type": "markdown",
   "metadata": {},
   "source": [
    "* Sporting items sells more."
   ]
  },
  {
   "cell_type": "markdown",
   "metadata": {},
   "source": [
    "** Task 10: Which product line is popular among men and women? **"
   ]
  },
  {
   "cell_type": "code",
   "execution_count": 30,
   "metadata": {},
   "outputs": [
    {
     "data": {
      "text/html": [
       "<div>\n",
       "<style scoped>\n",
       "    .dataframe tbody tr th:only-of-type {\n",
       "        vertical-align: middle;\n",
       "    }\n",
       "\n",
       "    .dataframe tbody tr th {\n",
       "        vertical-align: top;\n",
       "    }\n",
       "\n",
       "    .dataframe thead th {\n",
       "        text-align: right;\n",
       "    }\n",
       "</style>\n",
       "<table border=\"1\" class=\"dataframe\">\n",
       "  <thead>\n",
       "    <tr style=\"text-align: right;\">\n",
       "      <th>Category</th>\n",
       "      <th>Books</th>\n",
       "      <th>Clothing</th>\n",
       "      <th>Fashion</th>\n",
       "      <th>Furniture</th>\n",
       "      <th>Groceries</th>\n",
       "      <th>Sporting</th>\n",
       "    </tr>\n",
       "    <tr>\n",
       "      <th>Gender</th>\n",
       "      <th></th>\n",
       "      <th></th>\n",
       "      <th></th>\n",
       "      <th></th>\n",
       "      <th></th>\n",
       "      <th></th>\n",
       "    </tr>\n",
       "  </thead>\n",
       "  <tbody>\n",
       "    <tr>\n",
       "      <th>Female</th>\n",
       "      <td>88</td>\n",
       "      <td>81</td>\n",
       "      <td>81</td>\n",
       "      <td>78</td>\n",
       "      <td>87</td>\n",
       "      <td>86</td>\n",
       "    </tr>\n",
       "    <tr>\n",
       "      <th>Male</th>\n",
       "      <td>77</td>\n",
       "      <td>89</td>\n",
       "      <td>72</td>\n",
       "      <td>82</td>\n",
       "      <td>87</td>\n",
       "      <td>92</td>\n",
       "    </tr>\n",
       "  </tbody>\n",
       "</table>\n",
       "</div>"
      ],
      "text/plain": [
       "Category  Books  Clothing  Fashion  Furniture  Groceries  Sporting\n",
       "Gender                                                            \n",
       "Female       88        81       81         78         87        86\n",
       "Male         77        89       72         82         87        92"
      ]
     },
     "execution_count": 30,
     "metadata": {},
     "output_type": "execute_result"
    }
   ],
   "source": [
    "df.groupby(['Category','Gender']).count()['Quantity'].unstack(level=0)"
   ]
  },
  {
   "cell_type": "code",
   "execution_count": 31,
   "metadata": {},
   "outputs": [
    {
     "data": {
      "image/png": "[encoded data removed]",
      "text/plain": [
       "<Figure size 432x288 with 1 Axes>"
      ]
     },
     "metadata": {},
     "output_type": "display_data"
    }
   ],
   "source": [
    "df.groupby(['Category','Gender']).count()['Quantity'].unstack(level=0).plot(kind='bar');"
   ]
  },
  {
   "cell_type": "markdown",
   "metadata": {},
   "source": [
    "* Books item where more purchased by women.\n",
    "* whereas, Sporting item by men."
   ]
  },
  {
   "cell_type": "markdown",
   "metadata": {},
   "source": [
    "** Task 11: Which month makes more sales? **"
   ]
  },
  {
   "cell_type": "code",
   "execution_count": 32,
   "metadata": {},
   "outputs": [
    {
     "data": {
      "text/html": [
       "<div>\n",
       "<style scoped>\n",
       "    .dataframe tbody tr th:only-of-type {\n",
       "        vertical-align: middle;\n",
       "    }\n",
       "\n",
       "    .dataframe tbody tr th {\n",
       "        vertical-align: top;\n",
       "    }\n",
       "\n",
       "    .dataframe thead th {\n",
       "        text-align: right;\n",
       "    }\n",
       "</style>\n",
       "<table border=\"1\" class=\"dataframe\">\n",
       "  <thead>\n",
       "    <tr style=\"text-align: right;\">\n",
       "      <th></th>\n",
       "      <th>Invoice ID</th>\n",
       "      <th>Date</th>\n",
       "      <th>Time</th>\n",
       "      <th>Gender</th>\n",
       "      <th>Location</th>\n",
       "      <th>City</th>\n",
       "      <th>Member</th>\n",
       "      <th>Category</th>\n",
       "      <th>Price</th>\n",
       "      <th>Quantity</th>\n",
       "      <th>Total</th>\n",
       "      <th>Payment</th>\n",
       "      <th>Rating</th>\n",
       "      <th>Day</th>\n",
       "      <th>Month</th>\n",
       "    </tr>\n",
       "  </thead>\n",
       "  <tbody>\n",
       "    <tr>\n",
       "      <th>0</th>\n",
       "      <td>460489604</td>\n",
       "      <td>1/25/2018</td>\n",
       "      <td>16:46</td>\n",
       "      <td>Male</td>\n",
       "      <td>Brookfield</td>\n",
       "      <td>NewYork</td>\n",
       "      <td>Yes</td>\n",
       "      <td>Groceries</td>\n",
       "      <td>30</td>\n",
       "      <td>1</td>\n",
       "      <td>30</td>\n",
       "      <td>Cash</td>\n",
       "      <td>2</td>\n",
       "      <td>25</td>\n",
       "      <td>1</td>\n",
       "    </tr>\n",
       "    <tr>\n",
       "      <th>1</th>\n",
       "      <td>471006167</td>\n",
       "      <td>3/19/2018</td>\n",
       "      <td>16:48</td>\n",
       "      <td>Female</td>\n",
       "      <td>Water tower</td>\n",
       "      <td>Chicago</td>\n",
       "      <td>Yes</td>\n",
       "      <td>Fashion</td>\n",
       "      <td>35</td>\n",
       "      <td>5</td>\n",
       "      <td>175</td>\n",
       "      <td>Card</td>\n",
       "      <td>3</td>\n",
       "      <td>19</td>\n",
       "      <td>3</td>\n",
       "    </tr>\n",
       "    <tr>\n",
       "      <th>2</th>\n",
       "      <td>411909258</td>\n",
       "      <td>2/25/2018</td>\n",
       "      <td>13:33</td>\n",
       "      <td>Male</td>\n",
       "      <td>Water tower</td>\n",
       "      <td>Chicago</td>\n",
       "      <td>No</td>\n",
       "      <td>Clothing</td>\n",
       "      <td>57</td>\n",
       "      <td>2</td>\n",
       "      <td>114</td>\n",
       "      <td>Cash</td>\n",
       "      <td>5</td>\n",
       "      <td>25</td>\n",
       "      <td>2</td>\n",
       "    </tr>\n",
       "    <tr>\n",
       "      <th>3</th>\n",
       "      <td>487313402</td>\n",
       "      <td>1/22/2018</td>\n",
       "      <td>13:38</td>\n",
       "      <td>Female</td>\n",
       "      <td>Park lane</td>\n",
       "      <td>Dallas</td>\n",
       "      <td>Yes</td>\n",
       "      <td>Sporting</td>\n",
       "      <td>89</td>\n",
       "      <td>4</td>\n",
       "      <td>356</td>\n",
       "      <td>Gpay</td>\n",
       "      <td>1</td>\n",
       "      <td>22</td>\n",
       "      <td>1</td>\n",
       "    </tr>\n",
       "    <tr>\n",
       "      <th>4</th>\n",
       "      <td>197763430</td>\n",
       "      <td>2/18/2018</td>\n",
       "      <td>15:31</td>\n",
       "      <td>Female</td>\n",
       "      <td>Park lane</td>\n",
       "      <td>Dallas</td>\n",
       "      <td>No</td>\n",
       "      <td>Books</td>\n",
       "      <td>82</td>\n",
       "      <td>5</td>\n",
       "      <td>410</td>\n",
       "      <td>Cash</td>\n",
       "      <td>4</td>\n",
       "      <td>18</td>\n",
       "      <td>2</td>\n",
       "    </tr>\n",
       "  </tbody>\n",
       "</table>\n",
       "</div>"
      ],
      "text/plain": [
       "   Invoice ID       Date   Time  Gender     Location     City Member  \\\n",
       "0   460489604  1/25/2018  16:46    Male   Brookfield  NewYork    Yes   \n",
       "1   471006167  3/19/2018  16:48  Female  Water tower  Chicago    Yes   \n",
       "2   411909258  2/25/2018  13:33    Male  Water tower  Chicago     No   \n",
       "3   487313402  1/22/2018  13:38  Female    Park lane   Dallas    Yes   \n",
       "4   197763430  2/18/2018  15:31  Female    Park lane   Dallas     No   \n",
       "\n",
       "    Category  Price  Quantity  Total Payment  Rating  Day  Month  \n",
       "0  Groceries     30         1     30    Cash       2   25      1  \n",
       "1    Fashion     35         5    175    Card       3   19      3  \n",
       "2   Clothing     57         2    114    Cash       5   25      2  \n",
       "3   Sporting     89         4    356    Gpay       1   22      1  \n",
       "4      Books     82         5    410    Cash       4   18      2  "
      ]
     },
     "execution_count": 32,
     "metadata": {},
     "output_type": "execute_result"
    }
   ],
   "source": [
    "df['Month']=pd.to_datetime(df['Date']).dt.month\n",
    "df.head()"
   ]
  },
  {
   "cell_type": "code",
   "execution_count": 33,
   "metadata": {},
   "outputs": [
    {
     "data": {
      "text/plain": [
       "Month\n",
       "1    71652\n",
       "2    63850\n",
       "3    72286\n",
       "Name: Total, dtype: int64"
      ]
     },
     "execution_count": 33,
     "metadata": {},
     "output_type": "execute_result"
    }
   ],
   "source": [
    "df.groupby(['Month']).sum()['Total']"
   ]
  },
  {
   "cell_type": "code",
   "execution_count": 34,
   "metadata": {},
   "outputs": [
    {
     "data": {
      "image/png": "[encoded data removed]",
      "text/plain": [
       "<Figure size 432x288 with 1 Axes>"
      ]
     },
     "metadata": {},
     "output_type": "display_data"
    }
   ],
   "source": [
    "df.groupby(['Month']).sum()['Total'].plot(kind='bar');"
   ]
  },
  {
   "cell_type": "markdown",
   "metadata": {},
   "source": [
    "* 3rd month has more sales compared with other months."
   ]
  },
  {
   "cell_type": "markdown",
   "metadata": {},
   "source": [
    "### Conclusion\n",
    "1. Brookfield in the New York city has taken 34.7% of sales, Parklane in Dallas has 33.9% and Watertower in Chicago has 31.4% of sales.\n",
    "2. Brookfield and Parklane has more number of female customers, whereas Watertower has more men customers for shopping.\n",
    "3. When we analyzing each days of months, Day 15 has more sales happens, it is about sum of 9677/-\n",
    "4. Watertower has more sales happens from members, whereas less-member purchase more from Parklane.\n",
    "5. * Taking the average of rating, Watertower has 3.12 , Parklane has 3.02 and Brookfield has 2.78.\n",
    "   * 75 customers from Watertower gives 5 star and 84 customers from  Brookfield gives 1 star rating.\n",
    "6. Female shoppers more at Dallas City.\n",
    "7. By taking the sum of total sales for 3 months, Females spend 1,06,452/- and mens spend 1,01,336 having a total difference of 5116/-\n",
    "8. Member's spends more of total 1,07,543/-, whereas non-members spends total of 1,00,245/- with a differnce of 7298/-\n",
    "9. Sporting items has more purchase compared with other items.\n",
    "10. Books are more popular line among women and for men it is sporting.\n",
    "11. Highest sales in 3rd month of total about 72,286/- , 1st month of 71,652/- and lowest in 2nd month of 63,850/-"
   ]
  }
 ],
 "metadata": {
  "kernelspec": {
   "display_name": "Python 3",
   "language": "python",
   "name": "python3"
  },
  "language_info": {
   "codemirror_mode": {
    "name": "ipython",
    "version": 3
   },
   "file_extension": ".py",
   "mimetype": "text/x-python",
   "name": "python",
   "nbconvert_exporter": "python",
   "pygments_lexer": "ipython3",
   "version": "3.6.5"
  }
 },
 "nbformat": 4,
 "nbformat_minor": 2
}
